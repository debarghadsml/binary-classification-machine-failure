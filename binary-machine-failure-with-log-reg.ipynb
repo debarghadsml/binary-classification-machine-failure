{
 "cells": [
  {
   "cell_type": "code",
   "execution_count": 1,
   "id": "3ad81f66",
   "metadata": {
    "_cell_guid": "b1076dfc-b9ad-4769-8c92-a6c4dae69d19",
    "_uuid": "8f2839f25d086af736a60e9eeb907d3b93b6e0e5",
    "execution": {
     "iopub.execute_input": "2023-06-22T05:25:58.017725Z",
     "iopub.status.busy": "2023-06-22T05:25:58.017266Z",
     "iopub.status.idle": "2023-06-22T05:25:58.030712Z",
     "shell.execute_reply": "2023-06-22T05:25:58.029640Z"
    },
    "papermill": {
     "duration": 0.029398,
     "end_time": "2023-06-22T05:25:58.033773",
     "exception": false,
     "start_time": "2023-06-22T05:25:58.004375",
     "status": "completed"
    },
    "tags": []
   },
   "outputs": [
    {
     "name": "stdout",
     "output_type": "stream",
     "text": [
      "/kaggle/input/playground-series-s3e17/sample_submission.csv\n",
      "/kaggle/input/playground-series-s3e17/train.csv\n",
      "/kaggle/input/playground-series-s3e17/test.csv\n"
     ]
    }
   ],
   "source": [
    "# This Python 3 environment comes with many helpful analytics libraries installed\n",
    "# It is defined by the kaggle/python Docker image: https://github.com/kaggle/docker-python\n",
    "# For example, here's several helpful packages to load\n",
    "\n",
    "import numpy as np # linear algebra\n",
    "import pandas as pd # data processing, CSV file I/O (e.g. pd.read_csv)\n",
    "\n",
    "# Input data files are available in the read-only \"../input/\" directory\n",
    "# For example, running this (by clicking run or pressing Shift+Enter) will list all files under the input directory\n",
    "\n",
    "import os\n",
    "for dirname, _, filenames in os.walk('/kaggle/input'):\n",
    "    for filename in filenames:\n",
    "        print(os.path.join(dirname, filename))\n",
    "\n",
    "# You can write up to 20GB to the current directory (/kaggle/working/) that gets preserved as output when you create a version using \"Save & Run All\" \n",
    "# You can also write temporary files to /kaggle/temp/, but they won't be saved outside of the current session"
   ]
  },
  {
   "cell_type": "code",
   "execution_count": 2,
   "id": "9331bff2",
   "metadata": {
    "execution": {
     "iopub.execute_input": "2023-06-22T05:25:58.053262Z",
     "iopub.status.busy": "2023-06-22T05:25:58.052469Z",
     "iopub.status.idle": "2023-06-22T05:25:59.643369Z",
     "shell.execute_reply": "2023-06-22T05:25:59.642271Z"
    },
    "papermill": {
     "duration": 1.604168,
     "end_time": "2023-06-22T05:25:59.646658",
     "exception": false,
     "start_time": "2023-06-22T05:25:58.042490",
     "status": "completed"
    },
    "tags": []
   },
   "outputs": [],
   "source": [
    "import numpy as np\n",
    "import pandas as pd\n",
    "import matplotlib.pyplot as plt\n",
    "import seaborn as sns"
   ]
  },
  {
   "cell_type": "code",
   "execution_count": 3,
   "id": "bc91ea3d",
   "metadata": {
    "execution": {
     "iopub.execute_input": "2023-06-22T05:25:59.666351Z",
     "iopub.status.busy": "2023-06-22T05:25:59.665500Z",
     "iopub.status.idle": "2023-06-22T05:25:59.971076Z",
     "shell.execute_reply": "2023-06-22T05:25:59.969935Z"
    },
    "papermill": {
     "duration": 0.318756,
     "end_time": "2023-06-22T05:25:59.974092",
     "exception": false,
     "start_time": "2023-06-22T05:25:59.655336",
     "status": "completed"
    },
    "tags": []
   },
   "outputs": [],
   "source": [
    "df2 = pd.read_csv('/kaggle/input/playground-series-s3e17/train.csv' , index_col = 'id')"
   ]
  },
  {
   "cell_type": "code",
   "execution_count": 4,
   "id": "9b0d8e25",
   "metadata": {
    "execution": {
     "iopub.execute_input": "2023-06-22T05:25:59.993430Z",
     "iopub.status.busy": "2023-06-22T05:25:59.992995Z",
     "iopub.status.idle": "2023-06-22T05:26:00.027179Z",
     "shell.execute_reply": "2023-06-22T05:26:00.026072Z"
    },
    "papermill": {
     "duration": 0.046577,
     "end_time": "2023-06-22T05:26:00.029621",
     "exception": false,
     "start_time": "2023-06-22T05:25:59.983044",
     "status": "completed"
    },
    "tags": []
   },
   "outputs": [
    {
     "data": {
      "text/html": [
       "<div>\n",
       "<style scoped>\n",
       "    .dataframe tbody tr th:only-of-type {\n",
       "        vertical-align: middle;\n",
       "    }\n",
       "\n",
       "    .dataframe tbody tr th {\n",
       "        vertical-align: top;\n",
       "    }\n",
       "\n",
       "    .dataframe thead th {\n",
       "        text-align: right;\n",
       "    }\n",
       "</style>\n",
       "<table border=\"1\" class=\"dataframe\">\n",
       "  <thead>\n",
       "    <tr style=\"text-align: right;\">\n",
       "      <th></th>\n",
       "      <th>Product ID</th>\n",
       "      <th>Type</th>\n",
       "      <th>Air temperature [K]</th>\n",
       "      <th>Process temperature [K]</th>\n",
       "      <th>Rotational speed [rpm]</th>\n",
       "      <th>Torque [Nm]</th>\n",
       "      <th>Tool wear [min]</th>\n",
       "      <th>Machine failure</th>\n",
       "      <th>TWF</th>\n",
       "      <th>HDF</th>\n",
       "      <th>PWF</th>\n",
       "      <th>OSF</th>\n",
       "      <th>RNF</th>\n",
       "    </tr>\n",
       "    <tr>\n",
       "      <th>id</th>\n",
       "      <th></th>\n",
       "      <th></th>\n",
       "      <th></th>\n",
       "      <th></th>\n",
       "      <th></th>\n",
       "      <th></th>\n",
       "      <th></th>\n",
       "      <th></th>\n",
       "      <th></th>\n",
       "      <th></th>\n",
       "      <th></th>\n",
       "      <th></th>\n",
       "      <th></th>\n",
       "    </tr>\n",
       "  </thead>\n",
       "  <tbody>\n",
       "    <tr>\n",
       "      <th>0</th>\n",
       "      <td>L50096</td>\n",
       "      <td>L</td>\n",
       "      <td>300.6</td>\n",
       "      <td>309.6</td>\n",
       "      <td>1596</td>\n",
       "      <td>36.1</td>\n",
       "      <td>140</td>\n",
       "      <td>0</td>\n",
       "      <td>0</td>\n",
       "      <td>0</td>\n",
       "      <td>0</td>\n",
       "      <td>0</td>\n",
       "      <td>0</td>\n",
       "    </tr>\n",
       "    <tr>\n",
       "      <th>1</th>\n",
       "      <td>M20343</td>\n",
       "      <td>M</td>\n",
       "      <td>302.6</td>\n",
       "      <td>312.1</td>\n",
       "      <td>1759</td>\n",
       "      <td>29.1</td>\n",
       "      <td>200</td>\n",
       "      <td>0</td>\n",
       "      <td>0</td>\n",
       "      <td>0</td>\n",
       "      <td>0</td>\n",
       "      <td>0</td>\n",
       "      <td>0</td>\n",
       "    </tr>\n",
       "    <tr>\n",
       "      <th>2</th>\n",
       "      <td>L49454</td>\n",
       "      <td>L</td>\n",
       "      <td>299.3</td>\n",
       "      <td>308.5</td>\n",
       "      <td>1805</td>\n",
       "      <td>26.5</td>\n",
       "      <td>25</td>\n",
       "      <td>0</td>\n",
       "      <td>0</td>\n",
       "      <td>0</td>\n",
       "      <td>0</td>\n",
       "      <td>0</td>\n",
       "      <td>0</td>\n",
       "    </tr>\n",
       "    <tr>\n",
       "      <th>3</th>\n",
       "      <td>L53355</td>\n",
       "      <td>L</td>\n",
       "      <td>301.0</td>\n",
       "      <td>310.9</td>\n",
       "      <td>1524</td>\n",
       "      <td>44.3</td>\n",
       "      <td>197</td>\n",
       "      <td>0</td>\n",
       "      <td>0</td>\n",
       "      <td>0</td>\n",
       "      <td>0</td>\n",
       "      <td>0</td>\n",
       "      <td>0</td>\n",
       "    </tr>\n",
       "    <tr>\n",
       "      <th>4</th>\n",
       "      <td>M24050</td>\n",
       "      <td>M</td>\n",
       "      <td>298.0</td>\n",
       "      <td>309.0</td>\n",
       "      <td>1641</td>\n",
       "      <td>35.4</td>\n",
       "      <td>34</td>\n",
       "      <td>0</td>\n",
       "      <td>0</td>\n",
       "      <td>0</td>\n",
       "      <td>0</td>\n",
       "      <td>0</td>\n",
       "      <td>0</td>\n",
       "    </tr>\n",
       "  </tbody>\n",
       "</table>\n",
       "</div>"
      ],
      "text/plain": [
       "   Product ID Type  Air temperature [K]  Process temperature [K]  \\\n",
       "id                                                                 \n",
       "0      L50096    L                300.6                    309.6   \n",
       "1      M20343    M                302.6                    312.1   \n",
       "2      L49454    L                299.3                    308.5   \n",
       "3      L53355    L                301.0                    310.9   \n",
       "4      M24050    M                298.0                    309.0   \n",
       "\n",
       "    Rotational speed [rpm]  Torque [Nm]  Tool wear [min]  Machine failure  \\\n",
       "id                                                                          \n",
       "0                     1596         36.1              140                0   \n",
       "1                     1759         29.1              200                0   \n",
       "2                     1805         26.5               25                0   \n",
       "3                     1524         44.3              197                0   \n",
       "4                     1641         35.4               34                0   \n",
       "\n",
       "    TWF  HDF  PWF  OSF  RNF  \n",
       "id                           \n",
       "0     0    0    0    0    0  \n",
       "1     0    0    0    0    0  \n",
       "2     0    0    0    0    0  \n",
       "3     0    0    0    0    0  \n",
       "4     0    0    0    0    0  "
      ]
     },
     "execution_count": 4,
     "metadata": {},
     "output_type": "execute_result"
    }
   ],
   "source": [
    "df2.head()"
   ]
  },
  {
   "cell_type": "code",
   "execution_count": 5,
   "id": "273419b1",
   "metadata": {
    "execution": {
     "iopub.execute_input": "2023-06-22T05:26:00.049473Z",
     "iopub.status.busy": "2023-06-22T05:26:00.048694Z",
     "iopub.status.idle": "2023-06-22T05:26:00.056809Z",
     "shell.execute_reply": "2023-06-22T05:26:00.055609Z"
    },
    "papermill": {
     "duration": 0.020593,
     "end_time": "2023-06-22T05:26:00.059068",
     "exception": false,
     "start_time": "2023-06-22T05:26:00.038475",
     "status": "completed"
    },
    "tags": []
   },
   "outputs": [
    {
     "data": {
      "text/plain": [
       "(136429, 13)"
      ]
     },
     "execution_count": 5,
     "metadata": {},
     "output_type": "execute_result"
    }
   ],
   "source": [
    "df2.shape"
   ]
  },
  {
   "cell_type": "code",
   "execution_count": 6,
   "id": "588355dc",
   "metadata": {
    "execution": {
     "iopub.execute_input": "2023-06-22T05:26:00.078917Z",
     "iopub.status.busy": "2023-06-22T05:26:00.078424Z",
     "iopub.status.idle": "2023-06-22T05:26:00.085649Z",
     "shell.execute_reply": "2023-06-22T05:26:00.084767Z"
    },
    "papermill": {
     "duration": 0.019936,
     "end_time": "2023-06-22T05:26:00.088018",
     "exception": false,
     "start_time": "2023-06-22T05:26:00.068082",
     "status": "completed"
    },
    "tags": []
   },
   "outputs": [
    {
     "data": {
      "text/plain": [
       "Index(['Product ID', 'Type', 'Air temperature [K]', 'Process temperature [K]',\n",
       "       'Rotational speed [rpm]', 'Torque [Nm]', 'Tool wear [min]',\n",
       "       'Machine failure', 'TWF', 'HDF', 'PWF', 'OSF', 'RNF'],\n",
       "      dtype='object')"
      ]
     },
     "execution_count": 6,
     "metadata": {},
     "output_type": "execute_result"
    }
   ],
   "source": [
    "df2.columns"
   ]
  },
  {
   "cell_type": "code",
   "execution_count": 7,
   "id": "b06ca2c4",
   "metadata": {
    "execution": {
     "iopub.execute_input": "2023-06-22T05:26:00.107688Z",
     "iopub.status.busy": "2023-06-22T05:26:00.107191Z",
     "iopub.status.idle": "2023-06-22T05:26:00.175134Z",
     "shell.execute_reply": "2023-06-22T05:26:00.174142Z"
    },
    "papermill": {
     "duration": 0.08129,
     "end_time": "2023-06-22T05:26:00.178301",
     "exception": false,
     "start_time": "2023-06-22T05:26:00.097011",
     "status": "completed"
    },
    "tags": []
   },
   "outputs": [
    {
     "name": "stderr",
     "output_type": "stream",
     "text": [
      "/tmp/ipykernel_20/2965620365.py:1: FutureWarning: The default value of numeric_only in DataFrame.corr is deprecated. In a future version, it will default to False. Select only valid columns or specify the value of numeric_only to silence this warning.\n",
      "  df2.corr()['Machine failure']\n"
     ]
    },
    {
     "data": {
      "text/plain": [
       "Air temperature [K]        0.067744\n",
       "Process temperature [K]    0.030966\n",
       "Rotational speed [rpm]    -0.060868\n",
       "Torque [Nm]                0.145793\n",
       "Tool wear [min]            0.056448\n",
       "Machine failure            1.000000\n",
       "TWF                        0.311919\n",
       "HDF                        0.564507\n",
       "PWF                        0.383941\n",
       "OSF                        0.494668\n",
       "RNF                        0.001428\n",
       "Name: Machine failure, dtype: float64"
      ]
     },
     "execution_count": 7,
     "metadata": {},
     "output_type": "execute_result"
    }
   ],
   "source": [
    "df2.corr()['Machine failure']"
   ]
  },
  {
   "cell_type": "code",
   "execution_count": 8,
   "id": "20fd7064",
   "metadata": {
    "execution": {
     "iopub.execute_input": "2023-06-22T05:26:00.199557Z",
     "iopub.status.busy": "2023-06-22T05:26:00.198503Z",
     "iopub.status.idle": "2023-06-22T05:26:00.212260Z",
     "shell.execute_reply": "2023-06-22T05:26:00.211244Z"
    },
    "papermill": {
     "duration": 0.027074,
     "end_time": "2023-06-22T05:26:00.215027",
     "exception": false,
     "start_time": "2023-06-22T05:26:00.187953",
     "status": "completed"
    },
    "tags": []
   },
   "outputs": [],
   "source": [
    "df2 = df2.drop(['Product ID'] , axis = 1)"
   ]
  },
  {
   "cell_type": "code",
   "execution_count": 9,
   "id": "6a5a6083",
   "metadata": {
    "execution": {
     "iopub.execute_input": "2023-06-22T05:26:00.235325Z",
     "iopub.status.busy": "2023-06-22T05:26:00.234878Z",
     "iopub.status.idle": "2023-06-22T05:26:00.242388Z",
     "shell.execute_reply": "2023-06-22T05:26:00.241128Z"
    },
    "papermill": {
     "duration": 0.02028,
     "end_time": "2023-06-22T05:26:00.244577",
     "exception": false,
     "start_time": "2023-06-22T05:26:00.224297",
     "status": "completed"
    },
    "tags": []
   },
   "outputs": [
    {
     "data": {
      "text/plain": [
       "(136429, 12)"
      ]
     },
     "execution_count": 9,
     "metadata": {},
     "output_type": "execute_result"
    }
   ],
   "source": [
    "df2.shape"
   ]
  },
  {
   "cell_type": "code",
   "execution_count": 10,
   "id": "3ff31298",
   "metadata": {
    "execution": {
     "iopub.execute_input": "2023-06-22T05:26:00.265055Z",
     "iopub.status.busy": "2023-06-22T05:26:00.264551Z",
     "iopub.status.idle": "2023-06-22T05:26:00.283126Z",
     "shell.execute_reply": "2023-06-22T05:26:00.281645Z"
    },
    "papermill": {
     "duration": 0.03139,
     "end_time": "2023-06-22T05:26:00.285375",
     "exception": false,
     "start_time": "2023-06-22T05:26:00.253985",
     "status": "completed"
    },
    "tags": []
   },
   "outputs": [
    {
     "data": {
      "text/html": [
       "<div>\n",
       "<style scoped>\n",
       "    .dataframe tbody tr th:only-of-type {\n",
       "        vertical-align: middle;\n",
       "    }\n",
       "\n",
       "    .dataframe tbody tr th {\n",
       "        vertical-align: top;\n",
       "    }\n",
       "\n",
       "    .dataframe thead th {\n",
       "        text-align: right;\n",
       "    }\n",
       "</style>\n",
       "<table border=\"1\" class=\"dataframe\">\n",
       "  <thead>\n",
       "    <tr style=\"text-align: right;\">\n",
       "      <th></th>\n",
       "      <th>Type</th>\n",
       "      <th>Air temperature [K]</th>\n",
       "      <th>Process temperature [K]</th>\n",
       "      <th>Rotational speed [rpm]</th>\n",
       "      <th>Torque [Nm]</th>\n",
       "      <th>Tool wear [min]</th>\n",
       "      <th>Machine failure</th>\n",
       "      <th>TWF</th>\n",
       "      <th>HDF</th>\n",
       "      <th>PWF</th>\n",
       "      <th>OSF</th>\n",
       "      <th>RNF</th>\n",
       "    </tr>\n",
       "    <tr>\n",
       "      <th>id</th>\n",
       "      <th></th>\n",
       "      <th></th>\n",
       "      <th></th>\n",
       "      <th></th>\n",
       "      <th></th>\n",
       "      <th></th>\n",
       "      <th></th>\n",
       "      <th></th>\n",
       "      <th></th>\n",
       "      <th></th>\n",
       "      <th></th>\n",
       "      <th></th>\n",
       "    </tr>\n",
       "  </thead>\n",
       "  <tbody>\n",
       "    <tr>\n",
       "      <th>0</th>\n",
       "      <td>L</td>\n",
       "      <td>300.6</td>\n",
       "      <td>309.6</td>\n",
       "      <td>1596</td>\n",
       "      <td>36.1</td>\n",
       "      <td>140</td>\n",
       "      <td>0</td>\n",
       "      <td>0</td>\n",
       "      <td>0</td>\n",
       "      <td>0</td>\n",
       "      <td>0</td>\n",
       "      <td>0</td>\n",
       "    </tr>\n",
       "    <tr>\n",
       "      <th>1</th>\n",
       "      <td>M</td>\n",
       "      <td>302.6</td>\n",
       "      <td>312.1</td>\n",
       "      <td>1759</td>\n",
       "      <td>29.1</td>\n",
       "      <td>200</td>\n",
       "      <td>0</td>\n",
       "      <td>0</td>\n",
       "      <td>0</td>\n",
       "      <td>0</td>\n",
       "      <td>0</td>\n",
       "      <td>0</td>\n",
       "    </tr>\n",
       "    <tr>\n",
       "      <th>2</th>\n",
       "      <td>L</td>\n",
       "      <td>299.3</td>\n",
       "      <td>308.5</td>\n",
       "      <td>1805</td>\n",
       "      <td>26.5</td>\n",
       "      <td>25</td>\n",
       "      <td>0</td>\n",
       "      <td>0</td>\n",
       "      <td>0</td>\n",
       "      <td>0</td>\n",
       "      <td>0</td>\n",
       "      <td>0</td>\n",
       "    </tr>\n",
       "    <tr>\n",
       "      <th>3</th>\n",
       "      <td>L</td>\n",
       "      <td>301.0</td>\n",
       "      <td>310.9</td>\n",
       "      <td>1524</td>\n",
       "      <td>44.3</td>\n",
       "      <td>197</td>\n",
       "      <td>0</td>\n",
       "      <td>0</td>\n",
       "      <td>0</td>\n",
       "      <td>0</td>\n",
       "      <td>0</td>\n",
       "      <td>0</td>\n",
       "    </tr>\n",
       "    <tr>\n",
       "      <th>4</th>\n",
       "      <td>M</td>\n",
       "      <td>298.0</td>\n",
       "      <td>309.0</td>\n",
       "      <td>1641</td>\n",
       "      <td>35.4</td>\n",
       "      <td>34</td>\n",
       "      <td>0</td>\n",
       "      <td>0</td>\n",
       "      <td>0</td>\n",
       "      <td>0</td>\n",
       "      <td>0</td>\n",
       "      <td>0</td>\n",
       "    </tr>\n",
       "  </tbody>\n",
       "</table>\n",
       "</div>"
      ],
      "text/plain": [
       "   Type  Air temperature [K]  Process temperature [K]  Rotational speed [rpm]  \\\n",
       "id                                                                              \n",
       "0     L                300.6                    309.6                    1596   \n",
       "1     M                302.6                    312.1                    1759   \n",
       "2     L                299.3                    308.5                    1805   \n",
       "3     L                301.0                    310.9                    1524   \n",
       "4     M                298.0                    309.0                    1641   \n",
       "\n",
       "    Torque [Nm]  Tool wear [min]  Machine failure  TWF  HDF  PWF  OSF  RNF  \n",
       "id                                                                          \n",
       "0          36.1              140                0    0    0    0    0    0  \n",
       "1          29.1              200                0    0    0    0    0    0  \n",
       "2          26.5               25                0    0    0    0    0    0  \n",
       "3          44.3              197                0    0    0    0    0    0  \n",
       "4          35.4               34                0    0    0    0    0    0  "
      ]
     },
     "execution_count": 10,
     "metadata": {},
     "output_type": "execute_result"
    }
   ],
   "source": [
    "df2.head()"
   ]
  },
  {
   "cell_type": "code",
   "execution_count": 11,
   "id": "6a69cb7b",
   "metadata": {
    "execution": {
     "iopub.execute_input": "2023-06-22T05:26:00.308686Z",
     "iopub.status.busy": "2023-06-22T05:26:00.307632Z",
     "iopub.status.idle": "2023-06-22T05:26:00.994926Z",
     "shell.execute_reply": "2023-06-22T05:26:00.993757Z"
    },
    "papermill": {
     "duration": 0.700835,
     "end_time": "2023-06-22T05:26:00.997419",
     "exception": false,
     "start_time": "2023-06-22T05:26:00.296584",
     "status": "completed"
    },
    "tags": []
   },
   "outputs": [
    {
     "data": {
      "text/plain": [
       "<Axes: xlabel='Machine failure', ylabel='RNF'>"
      ]
     },
     "execution_count": 11,
     "metadata": {},
     "output_type": "execute_result"
    },
    {
     "data": {
      "image/png": "[encoded data removed]",
      "text/plain": [
       "<Figure size 640x480 with 1 Axes>"
      ]
     },
     "metadata": {},
     "output_type": "display_data"
    }
   ],
   "source": [
    "sns.scatterplot(data = df2 , x = 'Machine failure' , y = 'RNF')"
   ]
  },
  {
   "cell_type": "code",
   "execution_count": 12,
   "id": "ed95f1ae",
   "metadata": {
    "execution": {
     "iopub.execute_input": "2023-06-22T05:26:01.019962Z",
     "iopub.status.busy": "2023-06-22T05:26:01.018711Z",
     "iopub.status.idle": "2023-06-22T05:26:01.031629Z",
     "shell.execute_reply": "2023-06-22T05:26:01.030526Z"
    },
    "papermill": {
     "duration": 0.026434,
     "end_time": "2023-06-22T05:26:01.033931",
     "exception": false,
     "start_time": "2023-06-22T05:26:01.007497",
     "status": "completed"
    },
    "tags": []
   },
   "outputs": [
    {
     "data": {
      "text/plain": [
       "0    136121\n",
       "1       308\n",
       "Name: RNF, dtype: int64"
      ]
     },
     "execution_count": 12,
     "metadata": {},
     "output_type": "execute_result"
    }
   ],
   "source": [
    "df2['RNF'].value_counts()"
   ]
  },
  {
   "cell_type": "code",
   "execution_count": 13,
   "id": "c5fdd780",
   "metadata": {
    "execution": {
     "iopub.execute_input": "2023-06-22T05:26:01.055667Z",
     "iopub.status.busy": "2023-06-22T05:26:01.055249Z",
     "iopub.status.idle": "2023-06-22T05:26:01.066018Z",
     "shell.execute_reply": "2023-06-22T05:26:01.064953Z"
    },
    "papermill": {
     "duration": 0.024155,
     "end_time": "2023-06-22T05:26:01.068089",
     "exception": false,
     "start_time": "2023-06-22T05:26:01.043934",
     "status": "completed"
    },
    "tags": []
   },
   "outputs": [
    {
     "data": {
      "text/plain": [
       "0    135889\n",
       "1       540\n",
       "Name: OSF, dtype: int64"
      ]
     },
     "execution_count": 13,
     "metadata": {},
     "output_type": "execute_result"
    }
   ],
   "source": [
    "df2['OSF'].value_counts()"
   ]
  },
  {
   "cell_type": "code",
   "execution_count": 14,
   "id": "3f4155b1",
   "metadata": {
    "execution": {
     "iopub.execute_input": "2023-06-22T05:26:01.089965Z",
     "iopub.status.busy": "2023-06-22T05:26:01.089517Z",
     "iopub.status.idle": "2023-06-22T05:26:01.121135Z",
     "shell.execute_reply": "2023-06-22T05:26:01.120022Z"
    },
    "papermill": {
     "duration": 0.045753,
     "end_time": "2023-06-22T05:26:01.123872",
     "exception": false,
     "start_time": "2023-06-22T05:26:01.078119",
     "status": "completed"
    },
    "tags": []
   },
   "outputs": [
    {
     "data": {
      "text/plain": [
       "Type                       0\n",
       "Air temperature [K]        0\n",
       "Process temperature [K]    0\n",
       "Rotational speed [rpm]     0\n",
       "Torque [Nm]                0\n",
       "Tool wear [min]            0\n",
       "Machine failure            0\n",
       "TWF                        0\n",
       "HDF                        0\n",
       "PWF                        0\n",
       "OSF                        0\n",
       "RNF                        0\n",
       "dtype: int64"
      ]
     },
     "execution_count": 14,
     "metadata": {},
     "output_type": "execute_result"
    }
   ],
   "source": [
    "df2.isnull().sum()"
   ]
  },
  {
   "cell_type": "code",
   "execution_count": 15,
   "id": "abccd47c",
   "metadata": {
    "execution": {
     "iopub.execute_input": "2023-06-22T05:26:01.146718Z",
     "iopub.status.busy": "2023-06-22T05:26:01.146238Z",
     "iopub.status.idle": "2023-06-22T05:26:01.430133Z",
     "shell.execute_reply": "2023-06-22T05:26:01.428893Z"
    },
    "papermill": {
     "duration": 0.298604,
     "end_time": "2023-06-22T05:26:01.432995",
     "exception": false,
     "start_time": "2023-06-22T05:26:01.134391",
     "status": "completed"
    },
    "tags": []
   },
   "outputs": [],
   "source": [
    "from sklearn.model_selection import train_test_split , GridSearchCV"
   ]
  },
  {
   "cell_type": "code",
   "execution_count": 16,
   "id": "2e907d10",
   "metadata": {
    "execution": {
     "iopub.execute_input": "2023-06-22T05:26:01.455402Z",
     "iopub.status.busy": "2023-06-22T05:26:01.454962Z",
     "iopub.status.idle": "2023-06-22T05:26:01.506486Z",
     "shell.execute_reply": "2023-06-22T05:26:01.505114Z"
    },
    "papermill": {
     "duration": 0.066222,
     "end_time": "2023-06-22T05:26:01.509532",
     "exception": false,
     "start_time": "2023-06-22T05:26:01.443310",
     "status": "completed"
    },
    "tags": []
   },
   "outputs": [],
   "source": [
    "X = pd.get_dummies(df2.drop('Machine failure' , axis = 1) , drop_first = True)"
   ]
  },
  {
   "cell_type": "code",
   "execution_count": 17,
   "id": "2b07036e",
   "metadata": {
    "execution": {
     "iopub.execute_input": "2023-06-22T05:26:01.532863Z",
     "iopub.status.busy": "2023-06-22T05:26:01.532362Z",
     "iopub.status.idle": "2023-06-22T05:26:01.538588Z",
     "shell.execute_reply": "2023-06-22T05:26:01.536776Z"
    },
    "papermill": {
     "duration": 0.020513,
     "end_time": "2023-06-22T05:26:01.541007",
     "exception": false,
     "start_time": "2023-06-22T05:26:01.520494",
     "status": "completed"
    },
    "tags": []
   },
   "outputs": [],
   "source": [
    "y = df2['Machine failure']"
   ]
  },
  {
   "cell_type": "code",
   "execution_count": 18,
   "id": "b07d79c5",
   "metadata": {
    "execution": {
     "iopub.execute_input": "2023-06-22T05:26:01.563146Z",
     "iopub.status.busy": "2023-06-22T05:26:01.562626Z",
     "iopub.status.idle": "2023-06-22T05:26:01.606340Z",
     "shell.execute_reply": "2023-06-22T05:26:01.605303Z"
    },
    "papermill": {
     "duration": 0.057724,
     "end_time": "2023-06-22T05:26:01.609000",
     "exception": false,
     "start_time": "2023-06-22T05:26:01.551276",
     "status": "completed"
    },
    "tags": []
   },
   "outputs": [],
   "source": [
    "X_train, X_test, y_train, y_test = train_test_split(X, y, test_size=0.33, random_state=42)"
   ]
  },
  {
   "cell_type": "code",
   "execution_count": 19,
   "id": "98825295",
   "metadata": {
    "execution": {
     "iopub.execute_input": "2023-06-22T05:26:01.631476Z",
     "iopub.status.busy": "2023-06-22T05:26:01.631006Z",
     "iopub.status.idle": "2023-06-22T05:26:01.734825Z",
     "shell.execute_reply": "2023-06-22T05:26:01.733557Z"
    },
    "papermill": {
     "duration": 0.119273,
     "end_time": "2023-06-22T05:26:01.738496",
     "exception": false,
     "start_time": "2023-06-22T05:26:01.619223",
     "status": "completed"
    },
    "tags": []
   },
   "outputs": [],
   "source": [
    "from sklearn.linear_model import LogisticRegression"
   ]
  },
  {
   "cell_type": "code",
   "execution_count": 20,
   "id": "51b37f01",
   "metadata": {
    "execution": {
     "iopub.execute_input": "2023-06-22T05:26:01.760824Z",
     "iopub.status.busy": "2023-06-22T05:26:01.760297Z",
     "iopub.status.idle": "2023-06-22T05:26:01.766479Z",
     "shell.execute_reply": "2023-06-22T05:26:01.764970Z"
    },
    "papermill": {
     "duration": 0.019925,
     "end_time": "2023-06-22T05:26:01.768705",
     "exception": false,
     "start_time": "2023-06-22T05:26:01.748780",
     "status": "completed"
    },
    "tags": []
   },
   "outputs": [],
   "source": [
    "log_model = LogisticRegression(max_iter = 1000000 ,solver = 'liblinear')"
   ]
  },
  {
   "cell_type": "code",
   "execution_count": 21,
   "id": "2438acb8",
   "metadata": {
    "execution": {
     "iopub.execute_input": "2023-06-22T05:26:01.792035Z",
     "iopub.status.busy": "2023-06-22T05:26:01.791067Z",
     "iopub.status.idle": "2023-06-22T05:26:01.796536Z",
     "shell.execute_reply": "2023-06-22T05:26:01.795717Z"
    },
    "papermill": {
     "duration": 0.018957,
     "end_time": "2023-06-22T05:26:01.798494",
     "exception": false,
     "start_time": "2023-06-22T05:26:01.779537",
     "status": "completed"
    },
    "tags": []
   },
   "outputs": [],
   "source": [
    "param_grid = {'penalty' : ['l1' , 'l2'] , 'C' : [0.1,0.2,0.3,0.4,0.5,0.6]}"
   ]
  },
  {
   "cell_type": "code",
   "execution_count": 22,
   "id": "03510d30",
   "metadata": {
    "execution": {
     "iopub.execute_input": "2023-06-22T05:26:01.821343Z",
     "iopub.status.busy": "2023-06-22T05:26:01.820314Z",
     "iopub.status.idle": "2023-06-22T05:26:01.826529Z",
     "shell.execute_reply": "2023-06-22T05:26:01.825282Z"
    },
    "papermill": {
     "duration": 0.020236,
     "end_time": "2023-06-22T05:26:01.829026",
     "exception": false,
     "start_time": "2023-06-22T05:26:01.808790",
     "status": "completed"
    },
    "tags": []
   },
   "outputs": [],
   "source": [
    "grid_model = GridSearchCV(log_model,param_grid , error_score='raise')"
   ]
  },
  {
   "cell_type": "code",
   "execution_count": 23,
   "id": "8d582eb7",
   "metadata": {
    "execution": {
     "iopub.execute_input": "2023-06-22T05:26:01.852505Z",
     "iopub.status.busy": "2023-06-22T05:26:01.852070Z",
     "iopub.status.idle": "2023-06-22T05:33:57.653118Z",
     "shell.execute_reply": "2023-06-22T05:33:57.651764Z"
    },
    "papermill": {
     "duration": 475.827169,
     "end_time": "2023-06-22T05:33:57.666914",
     "exception": false,
     "start_time": "2023-06-22T05:26:01.839745",
     "status": "completed"
    },
    "tags": []
   },
   "outputs": [
    {
     "data": {
      "text/html": [
       "<style>#sk-container-id-1 {color: black;background-color: white;}#sk-container-id-1 pre{padding: 0;}#sk-container-id-1 div.sk-toggleable {background-color: white;}#sk-container-id-1 label.sk-toggleable__label {cursor: pointer;display: block;width: 100%;margin-bottom: 0;padding: 0.3em;box-sizing: border-box;text-align: center;}#sk-container-id-1 label.sk-toggleable__label-arrow:before {content: \"▸\";float: left;margin-right: 0.25em;color: #696969;}#sk-container-id-1 label.sk-toggleable__label-arrow:hover:before {color: black;}#sk-container-id-1 div.sk-estimator:hover label.sk-toggleable__label-arrow:before {color: black;}#sk-container-id-1 div.sk-toggleable__content {max-height: 0;max-width: 0;overflow: hidden;text-align: left;background-color: #f0f8ff;}#sk-container-id-1 div.sk-toggleable__content pre {margin: 0.2em;color: black;border-radius: 0.25em;background-color: #f0f8ff;}#sk-container-id-1 input.sk-toggleable__control:checked~div.sk-toggleable__content {max-height: 200px;max-width: 100%;overflow: auto;}#sk-container-id-1 input.sk-toggleable__control:checked~label.sk-toggleable__label-arrow:before {content: \"▾\";}#sk-container-id-1 div.sk-estimator input.sk-toggleable__control:checked~label.sk-toggleable__label {background-color: #d4ebff;}#sk-container-id-1 div.sk-label input.sk-toggleable__control:checked~label.sk-toggleable__label {background-color: #d4ebff;}#sk-container-id-1 input.sk-hidden--visually {border: 0;clip: rect(1px 1px 1px 1px);clip: rect(1px, 1px, 1px, 1px);height: 1px;margin: -1px;overflow: hidden;padding: 0;position: absolute;width: 1px;}#sk-container-id-1 div.sk-estimator {font-family: monospace;background-color: #f0f8ff;border: 1px dotted black;border-radius: 0.25em;box-sizing: border-box;margin-bottom: 0.5em;}#sk-container-id-1 div.sk-estimator:hover {background-color: #d4ebff;}#sk-container-id-1 div.sk-parallel-item::after {content: \"\";width: 100%;border-bottom: 1px solid gray;flex-grow: 1;}#sk-container-id-1 div.sk-label:hover label.sk-toggleable__label {background-color: #d4ebff;}#sk-container-id-1 div.sk-serial::before {content: \"\";position: absolute;border-left: 1px solid gray;box-sizing: border-box;top: 0;bottom: 0;left: 50%;z-index: 0;}#sk-container-id-1 div.sk-serial {display: flex;flex-direction: column;align-items: center;background-color: white;padding-right: 0.2em;padding-left: 0.2em;position: relative;}#sk-container-id-1 div.sk-item {position: relative;z-index: 1;}#sk-container-id-1 div.sk-parallel {display: flex;align-items: stretch;justify-content: center;background-color: white;position: relative;}#sk-container-id-1 div.sk-item::before, #sk-container-id-1 div.sk-parallel-item::before {content: \"\";position: absolute;border-left: 1px solid gray;box-sizing: border-box;top: 0;bottom: 0;left: 50%;z-index: -1;}#sk-container-id-1 div.sk-parallel-item {display: flex;flex-direction: column;z-index: 1;position: relative;background-color: white;}#sk-container-id-1 div.sk-parallel-item:first-child::after {align-self: flex-end;width: 50%;}#sk-container-id-1 div.sk-parallel-item:last-child::after {align-self: flex-start;width: 50%;}#sk-container-id-1 div.sk-parallel-item:only-child::after {width: 0;}#sk-container-id-1 div.sk-dashed-wrapped {border: 1px dashed gray;margin: 0 0.4em 0.5em 0.4em;box-sizing: border-box;padding-bottom: 0.4em;background-color: white;}#sk-container-id-1 div.sk-label label {font-family: monospace;font-weight: bold;display: inline-block;line-height: 1.2em;}#sk-container-id-1 div.sk-label-container {text-align: center;}#sk-container-id-1 div.sk-container {/* jupyter's `normalize.less` sets `[hidden] { display: none; }` but bootstrap.min.css set `[hidden] { display: none !important; }` so we also need the `!important` here to be able to override the default hidden behavior on the sphinx rendered scikit-learn.org. See: https://github.com/scikit-learn/scikit-learn/issues/21755 */display: inline-block !important;position: relative;}#sk-container-id-1 div.sk-text-repr-fallback {display: none;}</style><div id=\"sk-container-id-1\" class=\"sk-top-container\"><div class=\"sk-text-repr-fallback\"><pre>GridSearchCV(error_score=&#x27;raise&#x27;,\n",
       "             estimator=LogisticRegression(max_iter=1000000, solver=&#x27;liblinear&#x27;),\n",
       "             param_grid={&#x27;C&#x27;: [0.1, 0.2, 0.3, 0.4, 0.5, 0.6],\n",
       "                         &#x27;penalty&#x27;: [&#x27;l1&#x27;, &#x27;l2&#x27;]})</pre><b>In a Jupyter environment, please rerun this cell to show the HTML representation or trust the notebook. <br />On GitHub, the HTML representation is unable to render, please try loading this page with nbviewer.org.</b></div><div class=\"sk-container\" hidden><div class=\"sk-item sk-dashed-wrapped\"><div class=\"sk-label-container\"><div class=\"sk-label sk-toggleable\"><input class=\"sk-toggleable__control sk-hidden--visually\" id=\"sk-estimator-id-1\" type=\"checkbox\" ><label for=\"sk-estimator-id-1\" class=\"sk-toggleable__label sk-toggleable__label-arrow\">GridSearchCV</label><div class=\"sk-toggleable__content\"><pre>GridSearchCV(error_score=&#x27;raise&#x27;,\n",
       "             estimator=LogisticRegression(max_iter=1000000, solver=&#x27;liblinear&#x27;),\n",
       "             param_grid={&#x27;C&#x27;: [0.1, 0.2, 0.3, 0.4, 0.5, 0.6],\n",
       "                         &#x27;penalty&#x27;: [&#x27;l1&#x27;, &#x27;l2&#x27;]})</pre></div></div></div><div class=\"sk-parallel\"><div class=\"sk-parallel-item\"><div class=\"sk-item\"><div class=\"sk-label-container\"><div class=\"sk-label sk-toggleable\"><input class=\"sk-toggleable__control sk-hidden--visually\" id=\"sk-estimator-id-2\" type=\"checkbox\" ><label for=\"sk-estimator-id-2\" class=\"sk-toggleable__label sk-toggleable__label-arrow\">estimator: LogisticRegression</label><div class=\"sk-toggleable__content\"><pre>LogisticRegression(max_iter=1000000, solver=&#x27;liblinear&#x27;)</pre></div></div></div><div class=\"sk-serial\"><div class=\"sk-item\"><div class=\"sk-estimator sk-toggleable\"><input class=\"sk-toggleable__control sk-hidden--visually\" id=\"sk-estimator-id-3\" type=\"checkbox\" ><label for=\"sk-estimator-id-3\" class=\"sk-toggleable__label sk-toggleable__label-arrow\">LogisticRegression</label><div class=\"sk-toggleable__content\"><pre>LogisticRegression(max_iter=1000000, solver=&#x27;liblinear&#x27;)</pre></div></div></div></div></div></div></div></div></div></div>"
      ],
      "text/plain": [
       "GridSearchCV(error_score='raise',\n",
       "             estimator=LogisticRegression(max_iter=1000000, solver='liblinear'),\n",
       "             param_grid={'C': [0.1, 0.2, 0.3, 0.4, 0.5, 0.6],\n",
       "                         'penalty': ['l1', 'l2']})"
      ]
     },
     "execution_count": 23,
     "metadata": {},
     "output_type": "execute_result"
    }
   ],
   "source": [
    "grid_model.fit(X_train,y_train)"
   ]
  },
  {
   "cell_type": "code",
   "execution_count": 24,
   "id": "6d07a9a9",
   "metadata": {
    "execution": {
     "iopub.execute_input": "2023-06-22T05:33:57.690881Z",
     "iopub.status.busy": "2023-06-22T05:33:57.689661Z",
     "iopub.status.idle": "2023-06-22T05:33:57.706415Z",
     "shell.execute_reply": "2023-06-22T05:33:57.705047Z"
    },
    "papermill": {
     "duration": 0.032534,
     "end_time": "2023-06-22T05:33:57.710058",
     "exception": false,
     "start_time": "2023-06-22T05:33:57.677524",
     "status": "completed"
    },
    "tags": []
   },
   "outputs": [],
   "source": [
    "y_pred = grid_model.predict(X_test)"
   ]
  },
  {
   "cell_type": "code",
   "execution_count": 25,
   "id": "a1046351",
   "metadata": {
    "execution": {
     "iopub.execute_input": "2023-06-22T05:33:57.747880Z",
     "iopub.status.busy": "2023-06-22T05:33:57.747231Z",
     "iopub.status.idle": "2023-06-22T05:33:57.753755Z",
     "shell.execute_reply": "2023-06-22T05:33:57.752588Z"
    },
    "papermill": {
     "duration": 0.028445,
     "end_time": "2023-06-22T05:33:57.756478",
     "exception": false,
     "start_time": "2023-06-22T05:33:57.728033",
     "status": "completed"
    },
    "tags": []
   },
   "outputs": [],
   "source": [
    "from sklearn.metrics import classification_report,RocCurveDisplay , ConfusionMatrixDisplay , confusion_matrix"
   ]
  },
  {
   "cell_type": "code",
   "execution_count": 26,
   "id": "7a4afd3c",
   "metadata": {
    "execution": {
     "iopub.execute_input": "2023-06-22T05:33:57.793082Z",
     "iopub.status.busy": "2023-06-22T05:33:57.792458Z",
     "iopub.status.idle": "2023-06-22T05:33:57.865094Z",
     "shell.execute_reply": "2023-06-22T05:33:57.864039Z"
    },
    "papermill": {
     "duration": 0.093575,
     "end_time": "2023-06-22T05:33:57.867228",
     "exception": false,
     "start_time": "2023-06-22T05:33:57.773653",
     "status": "completed"
    },
    "tags": []
   },
   "outputs": [
    {
     "name": "stdout",
     "output_type": "stream",
     "text": [
      "              precision    recall  f1-score   support\n",
      "\n",
      "           0       1.00      1.00      1.00     44326\n",
      "           1       0.99      0.76      0.86       696\n",
      "\n",
      "    accuracy                           1.00     45022\n",
      "   macro avg       0.99      0.88      0.93     45022\n",
      "weighted avg       1.00      1.00      1.00     45022\n",
      "\n"
     ]
    }
   ],
   "source": [
    "print(classification_report(y_test,y_pred))"
   ]
  },
  {
   "cell_type": "code",
   "execution_count": 27,
   "id": "4ac1e987",
   "metadata": {
    "execution": {
     "iopub.execute_input": "2023-06-22T05:33:57.891616Z",
     "iopub.status.busy": "2023-06-22T05:33:57.890951Z",
     "iopub.status.idle": "2023-06-22T05:33:58.181013Z",
     "shell.execute_reply": "2023-06-22T05:33:58.179795Z"
    },
    "papermill": {
     "duration": 0.305051,
     "end_time": "2023-06-22T05:33:58.183385",
     "exception": false,
     "start_time": "2023-06-22T05:33:57.878334",
     "status": "completed"
    },
    "tags": []
   },
   "outputs": [
    {
     "data": {
      "text/plain": [
       "<sklearn.metrics._plot.roc_curve.RocCurveDisplay at 0x7fef98553460>"
      ]
     },
     "execution_count": 27,
     "metadata": {},
     "output_type": "execute_result"
    },
    {
     "data": {
      "image/png": "[encoded data removed]",
      "text/plain": [
       "<Figure size 640x480 with 1 Axes>"
      ]
     },
     "metadata": {},
     "output_type": "display_data"
    }
   ],
   "source": [
    "RocCurveDisplay.from_estimator(grid_model , X_test,y_test)"
   ]
  },
  {
   "cell_type": "code",
   "execution_count": 28,
   "id": "6b3b6299",
   "metadata": {
    "execution": {
     "iopub.execute_input": "2023-06-22T05:33:58.208205Z",
     "iopub.status.busy": "2023-06-22T05:33:58.207774Z",
     "iopub.status.idle": "2023-06-22T05:33:58.474474Z",
     "shell.execute_reply": "2023-06-22T05:33:58.473330Z"
    },
    "papermill": {
     "duration": 0.282217,
     "end_time": "2023-06-22T05:33:58.476965",
     "exception": false,
     "start_time": "2023-06-22T05:33:58.194748",
     "status": "completed"
    },
    "tags": []
   },
   "outputs": [
    {
     "data": {
      "text/plain": [
       "<sklearn.metrics._plot.confusion_matrix.ConfusionMatrixDisplay at 0x7fef985502e0>"
      ]
     },
     "execution_count": 28,
     "metadata": {},
     "output_type": "execute_result"
    },
    {
     "data": {
      "image/png": "[encoded data removed]",
      "text/plain": [
       "<Figure size 640x480 with 2 Axes>"
      ]
     },
     "metadata": {},
     "output_type": "display_data"
    }
   ],
   "source": [
    "ConfusionMatrixDisplay(confusion_matrix(y_test,y_pred)).plot()"
   ]
  },
  {
   "cell_type": "code",
   "execution_count": 29,
   "id": "fc8afd86",
   "metadata": {
    "execution": {
     "iopub.execute_input": "2023-06-22T05:33:58.502956Z",
     "iopub.status.busy": "2023-06-22T05:33:58.502462Z",
     "iopub.status.idle": "2023-06-22T05:33:58.692522Z",
     "shell.execute_reply": "2023-06-22T05:33:58.691163Z"
    },
    "papermill": {
     "duration": 0.206758,
     "end_time": "2023-06-22T05:33:58.695476",
     "exception": false,
     "start_time": "2023-06-22T05:33:58.488718",
     "status": "completed"
    },
    "tags": []
   },
   "outputs": [],
   "source": [
    "df3 = pd.read_csv(r'/kaggle/input/playground-series-s3e17/test.csv' , index_col = 'id' )"
   ]
  },
  {
   "cell_type": "code",
   "execution_count": 30,
   "id": "f3aa9dd9",
   "metadata": {
    "execution": {
     "iopub.execute_input": "2023-06-22T05:33:58.722238Z",
     "iopub.status.busy": "2023-06-22T05:33:58.721763Z",
     "iopub.status.idle": "2023-06-22T05:33:58.740036Z",
     "shell.execute_reply": "2023-06-22T05:33:58.739073Z"
    },
    "papermill": {
     "duration": 0.034802,
     "end_time": "2023-06-22T05:33:58.742200",
     "exception": false,
     "start_time": "2023-06-22T05:33:58.707398",
     "status": "completed"
    },
    "tags": []
   },
   "outputs": [
    {
     "data": {
      "text/html": [
       "<div>\n",
       "<style scoped>\n",
       "    .dataframe tbody tr th:only-of-type {\n",
       "        vertical-align: middle;\n",
       "    }\n",
       "\n",
       "    .dataframe tbody tr th {\n",
       "        vertical-align: top;\n",
       "    }\n",
       "\n",
       "    .dataframe thead th {\n",
       "        text-align: right;\n",
       "    }\n",
       "</style>\n",
       "<table border=\"1\" class=\"dataframe\">\n",
       "  <thead>\n",
       "    <tr style=\"text-align: right;\">\n",
       "      <th></th>\n",
       "      <th>Product ID</th>\n",
       "      <th>Type</th>\n",
       "      <th>Air temperature [K]</th>\n",
       "      <th>Process temperature [K]</th>\n",
       "      <th>Rotational speed [rpm]</th>\n",
       "      <th>Torque [Nm]</th>\n",
       "      <th>Tool wear [min]</th>\n",
       "      <th>TWF</th>\n",
       "      <th>HDF</th>\n",
       "      <th>PWF</th>\n",
       "      <th>OSF</th>\n",
       "      <th>RNF</th>\n",
       "    </tr>\n",
       "    <tr>\n",
       "      <th>id</th>\n",
       "      <th></th>\n",
       "      <th></th>\n",
       "      <th></th>\n",
       "      <th></th>\n",
       "      <th></th>\n",
       "      <th></th>\n",
       "      <th></th>\n",
       "      <th></th>\n",
       "      <th></th>\n",
       "      <th></th>\n",
       "      <th></th>\n",
       "      <th></th>\n",
       "    </tr>\n",
       "  </thead>\n",
       "  <tbody>\n",
       "    <tr>\n",
       "      <th>136429</th>\n",
       "      <td>L50896</td>\n",
       "      <td>L</td>\n",
       "      <td>302.3</td>\n",
       "      <td>311.5</td>\n",
       "      <td>1499</td>\n",
       "      <td>38.0</td>\n",
       "      <td>60</td>\n",
       "      <td>0</td>\n",
       "      <td>0</td>\n",
       "      <td>0</td>\n",
       "      <td>0</td>\n",
       "      <td>0</td>\n",
       "    </tr>\n",
       "    <tr>\n",
       "      <th>136430</th>\n",
       "      <td>L53866</td>\n",
       "      <td>L</td>\n",
       "      <td>301.7</td>\n",
       "      <td>311.0</td>\n",
       "      <td>1713</td>\n",
       "      <td>28.8</td>\n",
       "      <td>17</td>\n",
       "      <td>0</td>\n",
       "      <td>0</td>\n",
       "      <td>0</td>\n",
       "      <td>0</td>\n",
       "      <td>0</td>\n",
       "    </tr>\n",
       "    <tr>\n",
       "      <th>136431</th>\n",
       "      <td>L50498</td>\n",
       "      <td>L</td>\n",
       "      <td>301.3</td>\n",
       "      <td>310.4</td>\n",
       "      <td>1525</td>\n",
       "      <td>37.7</td>\n",
       "      <td>96</td>\n",
       "      <td>0</td>\n",
       "      <td>0</td>\n",
       "      <td>0</td>\n",
       "      <td>0</td>\n",
       "      <td>0</td>\n",
       "    </tr>\n",
       "    <tr>\n",
       "      <th>136432</th>\n",
       "      <td>M21232</td>\n",
       "      <td>M</td>\n",
       "      <td>300.1</td>\n",
       "      <td>309.6</td>\n",
       "      <td>1479</td>\n",
       "      <td>47.6</td>\n",
       "      <td>5</td>\n",
       "      <td>0</td>\n",
       "      <td>0</td>\n",
       "      <td>0</td>\n",
       "      <td>0</td>\n",
       "      <td>0</td>\n",
       "    </tr>\n",
       "    <tr>\n",
       "      <th>136433</th>\n",
       "      <td>M19751</td>\n",
       "      <td>M</td>\n",
       "      <td>303.4</td>\n",
       "      <td>312.3</td>\n",
       "      <td>1515</td>\n",
       "      <td>41.3</td>\n",
       "      <td>114</td>\n",
       "      <td>0</td>\n",
       "      <td>0</td>\n",
       "      <td>0</td>\n",
       "      <td>0</td>\n",
       "      <td>0</td>\n",
       "    </tr>\n",
       "  </tbody>\n",
       "</table>\n",
       "</div>"
      ],
      "text/plain": [
       "       Product ID Type  Air temperature [K]  Process temperature [K]  \\\n",
       "id                                                                     \n",
       "136429     L50896    L                302.3                    311.5   \n",
       "136430     L53866    L                301.7                    311.0   \n",
       "136431     L50498    L                301.3                    310.4   \n",
       "136432     M21232    M                300.1                    309.6   \n",
       "136433     M19751    M                303.4                    312.3   \n",
       "\n",
       "        Rotational speed [rpm]  Torque [Nm]  Tool wear [min]  TWF  HDF  PWF  \\\n",
       "id                                                                            \n",
       "136429                    1499         38.0               60    0    0    0   \n",
       "136430                    1713         28.8               17    0    0    0   \n",
       "136431                    1525         37.7               96    0    0    0   \n",
       "136432                    1479         47.6                5    0    0    0   \n",
       "136433                    1515         41.3              114    0    0    0   \n",
       "\n",
       "        OSF  RNF  \n",
       "id                \n",
       "136429    0    0  \n",
       "136430    0    0  \n",
       "136431    0    0  \n",
       "136432    0    0  \n",
       "136433    0    0  "
      ]
     },
     "execution_count": 30,
     "metadata": {},
     "output_type": "execute_result"
    }
   ],
   "source": [
    "df3.head()"
   ]
  },
  {
   "cell_type": "code",
   "execution_count": 31,
   "id": "e1deb0c2",
   "metadata": {
    "execution": {
     "iopub.execute_input": "2023-06-22T05:33:58.769265Z",
     "iopub.status.busy": "2023-06-22T05:33:58.768049Z",
     "iopub.status.idle": "2023-06-22T05:33:58.775439Z",
     "shell.execute_reply": "2023-06-22T05:33:58.774418Z"
    },
    "papermill": {
     "duration": 0.023217,
     "end_time": "2023-06-22T05:33:58.777747",
     "exception": false,
     "start_time": "2023-06-22T05:33:58.754530",
     "status": "completed"
    },
    "tags": []
   },
   "outputs": [
    {
     "data": {
      "text/plain": [
       "(90954, 12)"
      ]
     },
     "execution_count": 31,
     "metadata": {},
     "output_type": "execute_result"
    }
   ],
   "source": [
    "df3.shape"
   ]
  },
  {
   "cell_type": "code",
   "execution_count": 32,
   "id": "be3c9a79",
   "metadata": {
    "execution": {
     "iopub.execute_input": "2023-06-22T05:33:58.804641Z",
     "iopub.status.busy": "2023-06-22T05:33:58.804171Z",
     "iopub.status.idle": "2023-06-22T05:33:58.814379Z",
     "shell.execute_reply": "2023-06-22T05:33:58.813060Z"
    },
    "papermill": {
     "duration": 0.02643,
     "end_time": "2023-06-22T05:33:58.816651",
     "exception": false,
     "start_time": "2023-06-22T05:33:58.790221",
     "status": "completed"
    },
    "tags": []
   },
   "outputs": [],
   "source": [
    "df3 = df3.drop('Product ID' , axis = 1)"
   ]
  },
  {
   "cell_type": "code",
   "execution_count": 33,
   "id": "568cacf9",
   "metadata": {
    "execution": {
     "iopub.execute_input": "2023-06-22T05:33:58.843448Z",
     "iopub.status.busy": "2023-06-22T05:33:58.843014Z",
     "iopub.status.idle": "2023-06-22T05:33:58.865277Z",
     "shell.execute_reply": "2023-06-22T05:33:58.863861Z"
    },
    "papermill": {
     "duration": 0.038901,
     "end_time": "2023-06-22T05:33:58.868022",
     "exception": false,
     "start_time": "2023-06-22T05:33:58.829121",
     "status": "completed"
    },
    "tags": []
   },
   "outputs": [],
   "source": [
    "df3 = pd.get_dummies(df3 , drop_first = True)"
   ]
  },
  {
   "cell_type": "code",
   "execution_count": 34,
   "id": "cb59445d",
   "metadata": {
    "execution": {
     "iopub.execute_input": "2023-06-22T05:33:58.894486Z",
     "iopub.status.busy": "2023-06-22T05:33:58.894061Z",
     "iopub.status.idle": "2023-06-22T05:33:58.901838Z",
     "shell.execute_reply": "2023-06-22T05:33:58.900605Z"
    },
    "papermill": {
     "duration": 0.023718,
     "end_time": "2023-06-22T05:33:58.904160",
     "exception": false,
     "start_time": "2023-06-22T05:33:58.880442",
     "status": "completed"
    },
    "tags": []
   },
   "outputs": [
    {
     "data": {
      "text/plain": [
       "(90954, 12)"
      ]
     },
     "execution_count": 34,
     "metadata": {},
     "output_type": "execute_result"
    }
   ],
   "source": [
    "df3.shape"
   ]
  },
  {
   "cell_type": "code",
   "execution_count": 35,
   "id": "1e219365",
   "metadata": {
    "execution": {
     "iopub.execute_input": "2023-06-22T05:33:58.931694Z",
     "iopub.status.busy": "2023-06-22T05:33:58.930462Z",
     "iopub.status.idle": "2023-06-22T05:33:58.953462Z",
     "shell.execute_reply": "2023-06-22T05:33:58.952027Z"
    },
    "papermill": {
     "duration": 0.040688,
     "end_time": "2023-06-22T05:33:58.957273",
     "exception": false,
     "start_time": "2023-06-22T05:33:58.916585",
     "status": "completed"
    },
    "tags": []
   },
   "outputs": [],
   "source": [
    "df1_pred = pd.DataFrame(grid_model.predict(df3) , index = np.arange(136429,227383))"
   ]
  },
  {
   "cell_type": "code",
   "execution_count": 36,
   "id": "e7536113",
   "metadata": {
    "execution": {
     "iopub.execute_input": "2023-06-22T05:33:59.000776Z",
     "iopub.status.busy": "2023-06-22T05:33:59.000148Z",
     "iopub.status.idle": "2023-06-22T05:33:59.006821Z",
     "shell.execute_reply": "2023-06-22T05:33:59.005530Z"
    },
    "papermill": {
     "duration": 0.032342,
     "end_time": "2023-06-22T05:33:59.009747",
     "exception": false,
     "start_time": "2023-06-22T05:33:58.977405",
     "status": "completed"
    },
    "tags": []
   },
   "outputs": [],
   "source": [
    "final_sub1 = pd.DataFrame(df1_pred)"
   ]
  },
  {
   "cell_type": "code",
   "execution_count": 37,
   "id": "a3fa252e",
   "metadata": {
    "execution": {
     "iopub.execute_input": "2023-06-22T05:33:59.052346Z",
     "iopub.status.busy": "2023-06-22T05:33:59.051588Z",
     "iopub.status.idle": "2023-06-22T05:33:59.186437Z",
     "shell.execute_reply": "2023-06-22T05:33:59.185314Z"
    },
    "papermill": {
     "duration": 0.159411,
     "end_time": "2023-06-22T05:33:59.189082",
     "exception": false,
     "start_time": "2023-06-22T05:33:59.029671",
     "status": "completed"
    },
    "tags": []
   },
   "outputs": [],
   "source": [
    "final_sub1.to_csv(r'/kaggle/working/final_sub1.csv')"
   ]
  }
 ],
 "metadata": {
  "kernelspec": {
   "display_name": "Python 3",
   "language": "python",
   "name": "python3"
  },
  "language_info": {
   "codemirror_mode": {
    "name": "ipython",
    "version": 3
   },
   "file_extension": ".py",
   "mimetype": "text/x-python",
   "name": "python",
   "nbconvert_exporter": "python",
   "pygments_lexer": "ipython3",
   "version": "3.10.10"
  },
  "papermill": {
   "default_parameters": {},
   "duration": 495.210675,
   "end_time": "2023-06-22T05:34:00.628427",
   "environment_variables": {},
   "exception": null,
   "input_path": "__notebook__.ipynb",
   "output_path": "__notebook__.ipynb",
   "parameters": {},
   "start_time": "2023-06-22T05:25:45.417752",
   "version": "2.4.0"
  }
 },
 "nbformat": 4,
 "nbformat_minor": 5
}
